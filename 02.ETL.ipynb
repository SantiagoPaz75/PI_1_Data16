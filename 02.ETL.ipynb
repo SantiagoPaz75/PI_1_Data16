{
 "cells": [
  {
   "cell_type": "markdown",
   "metadata": {},
   "source": [
    "**Importar biliotecas y leer datos**"
   ]
  },
  {
   "cell_type": "code",
   "execution_count": 1,
   "metadata": {},
   "outputs": [],
   "source": [
    "import pandas as pd\n",
    "import numpy as np\n",
    "import matplotlib.pyplot as plt\n",
    "import seaborn as sns"
   ]
  },
  {
   "cell_type": "code",
   "execution_count": 2,
   "metadata": {},
   "outputs": [],
   "source": [
    "# Importamos los archivos y los almacenamos como DataFrames\n",
    "\n",
    "df_steam_games = pd.read_csv('steam_games.csv')\n",
    "df_reviews = pd.read_csv('reviews.csv')\n",
    "df_items = pd.read_csv('items.csv')"
   ]
  },
  {
   "cell_type": "markdown",
   "metadata": {},
   "source": [
    "**Extracción, transformación y carga de datos (ETL)**"
   ]
  },
  {
   "cell_type": "markdown",
   "metadata": {},
   "source": [
    "**df_reviews**"
   ]
  },
  {
   "cell_type": "code",
   "execution_count": 3,
   "metadata": {},
   "outputs": [
    {
     "data": {
      "text/html": [
       "<div>\n",
       "<style scoped>\n",
       "    .dataframe tbody tr th:only-of-type {\n",
       "        vertical-align: middle;\n",
       "    }\n",
       "\n",
       "    .dataframe tbody tr th {\n",
       "        vertical-align: top;\n",
       "    }\n",
       "\n",
       "    .dataframe thead th {\n",
       "        text-align: right;\n",
       "    }\n",
       "</style>\n",
       "<table border=\"1\" class=\"dataframe\">\n",
       "  <thead>\n",
       "    <tr style=\"text-align: right;\">\n",
       "      <th></th>\n",
       "      <th>user_id</th>\n",
       "      <th>item_id</th>\n",
       "      <th>posted</th>\n",
       "      <th>recommend</th>\n",
       "      <th>review</th>\n",
       "    </tr>\n",
       "  </thead>\n",
       "  <tbody>\n",
       "    <tr>\n",
       "      <th>0</th>\n",
       "      <td>76561197970982479</td>\n",
       "      <td>1250</td>\n",
       "      <td>Posted November 5, 2011.</td>\n",
       "      <td>True</td>\n",
       "      <td>Simple yet with great replayability. In my opi...</td>\n",
       "    </tr>\n",
       "    <tr>\n",
       "      <th>1</th>\n",
       "      <td>76561197970982479</td>\n",
       "      <td>22200</td>\n",
       "      <td>Posted July 15, 2011.</td>\n",
       "      <td>True</td>\n",
       "      <td>It's unique and worth a playthrough.</td>\n",
       "    </tr>\n",
       "    <tr>\n",
       "      <th>2</th>\n",
       "      <td>76561197970982479</td>\n",
       "      <td>43110</td>\n",
       "      <td>Posted April 21, 2011.</td>\n",
       "      <td>True</td>\n",
       "      <td>Great atmosphere. The gunplay can be a bit chu...</td>\n",
       "    </tr>\n",
       "    <tr>\n",
       "      <th>3</th>\n",
       "      <td>js41637</td>\n",
       "      <td>251610</td>\n",
       "      <td>Posted June 24, 2014.</td>\n",
       "      <td>True</td>\n",
       "      <td>I know what you think when you see this title ...</td>\n",
       "    </tr>\n",
       "    <tr>\n",
       "      <th>4</th>\n",
       "      <td>js41637</td>\n",
       "      <td>227300</td>\n",
       "      <td>Posted September 8, 2013.</td>\n",
       "      <td>True</td>\n",
       "      <td>For a simple (it's actually not all that simpl...</td>\n",
       "    </tr>\n",
       "  </tbody>\n",
       "</table>\n",
       "</div>"
      ],
      "text/plain": [
       "             user_id  item_id                     posted  recommend  \\\n",
       "0  76561197970982479     1250   Posted November 5, 2011.       True   \n",
       "1  76561197970982479    22200      Posted July 15, 2011.       True   \n",
       "2  76561197970982479    43110     Posted April 21, 2011.       True   \n",
       "3            js41637   251610      Posted June 24, 2014.       True   \n",
       "4            js41637   227300  Posted September 8, 2013.       True   \n",
       "\n",
       "                                              review  \n",
       "0  Simple yet with great replayability. In my opi...  \n",
       "1               It's unique and worth a playthrough.  \n",
       "2  Great atmosphere. The gunplay can be a bit chu...  \n",
       "3  I know what you think when you see this title ...  \n",
       "4  For a simple (it's actually not all that simpl...  "
      ]
     },
     "execution_count": 3,
     "metadata": {},
     "output_type": "execute_result"
    }
   ],
   "source": [
    "# Visualizamos el dataframe\n",
    "df_reviews.head()"
   ]
  },
  {
   "cell_type": "code",
   "execution_count": 4,
   "metadata": {},
   "outputs": [
    {
     "data": {
      "text/plain": [
       "(59305, 5)"
      ]
     },
     "execution_count": 4,
     "metadata": {},
     "output_type": "execute_result"
    }
   ],
   "source": [
    "# Visualizamos las dimensiones del df\n",
    "df_reviews.shape"
   ]
  },
  {
   "cell_type": "code",
   "execution_count": 5,
   "metadata": {},
   "outputs": [
    {
     "data": {
      "text/plain": [
       "Index(['user_id', 'item_id', 'posted', 'recommend', 'review'], dtype='object')"
      ]
     },
     "execution_count": 5,
     "metadata": {},
     "output_type": "execute_result"
    }
   ],
   "source": [
    "# Visualizamos las columnas existentes\n",
    "df_reviews.columns"
   ]
  },
  {
   "cell_type": "code",
   "execution_count": 6,
   "metadata": {},
   "outputs": [
    {
     "data": {
      "text/plain": [
       "user_id      object\n",
       "item_id       int64\n",
       "posted       object\n",
       "recommend      bool\n",
       "review       object\n",
       "dtype: object"
      ]
     },
     "execution_count": 6,
     "metadata": {},
     "output_type": "execute_result"
    }
   ],
   "source": [
    "# Visualizamos el tipo de datos de las columnas\n",
    "df_reviews.dtypes"
   ]
  },
  {
   "cell_type": "code",
   "execution_count": 7,
   "metadata": {},
   "outputs": [
    {
     "data": {
      "text/html": [
       "<div>\n",
       "<style scoped>\n",
       "    .dataframe tbody tr th:only-of-type {\n",
       "        vertical-align: middle;\n",
       "    }\n",
       "\n",
       "    .dataframe tbody tr th {\n",
       "        vertical-align: top;\n",
       "    }\n",
       "\n",
       "    .dataframe thead th {\n",
       "        text-align: right;\n",
       "    }\n",
       "</style>\n",
       "<table border=\"1\" class=\"dataframe\">\n",
       "  <thead>\n",
       "    <tr style=\"text-align: right;\">\n",
       "      <th></th>\n",
       "      <th>Datos no nulos</th>\n",
       "      <th>Datos nulos</th>\n",
       "    </tr>\n",
       "  </thead>\n",
       "  <tbody>\n",
       "    <tr>\n",
       "      <th>user_id</th>\n",
       "      <td>59305</td>\n",
       "      <td>0</td>\n",
       "    </tr>\n",
       "    <tr>\n",
       "      <th>item_id</th>\n",
       "      <td>59305</td>\n",
       "      <td>0</td>\n",
       "    </tr>\n",
       "    <tr>\n",
       "      <th>posted</th>\n",
       "      <td>59305</td>\n",
       "      <td>0</td>\n",
       "    </tr>\n",
       "    <tr>\n",
       "      <th>recommend</th>\n",
       "      <td>59305</td>\n",
       "      <td>0</td>\n",
       "    </tr>\n",
       "    <tr>\n",
       "      <th>review</th>\n",
       "      <td>59275</td>\n",
       "      <td>30</td>\n",
       "    </tr>\n",
       "  </tbody>\n",
       "</table>\n",
       "</div>"
      ],
      "text/plain": [
       "           Datos no nulos  Datos nulos\n",
       "user_id             59305            0\n",
       "item_id             59305            0\n",
       "posted              59305            0\n",
       "recommend           59305            0\n",
       "review              59275           30"
      ]
     },
     "execution_count": 7,
     "metadata": {},
     "output_type": "execute_result"
    }
   ],
   "source": [
    "# Revisamos datos nulos por columna\n",
    "datos_no_nulos = df_reviews.count()\n",
    "datos_nulos = df_reviews.isnull().sum()\n",
    "\n",
    "informacion_columnas = pd.DataFrame({'Datos no nulos': datos_no_nulos,'Datos nulos': datos_nulos})\n",
    "informacion_columnas"
   ]
  },
  {
   "cell_type": "code",
   "execution_count": 8,
   "metadata": {},
   "outputs": [],
   "source": [
    "# Realizamos el análisis de sentimiento para la columna 'review' de df_reviews_info\n",
    "\n",
    "from textblob import TextBlob\n",
    "\n",
    "# Función para analizar el sentimiento y asignar valores según la escala\n",
    "def analizar_sentimiento(texto):\n",
    "    analysis = TextBlob(texto)\n",
    "    if analysis.sentiment.polarity < 0:\n",
    "        return 0  # Sentimiento negativo\n",
    "    elif analysis.sentiment.polarity == 0:\n",
    "        return 1  # Sentimiento neutral\n",
    "    else:\n",
    "        return 2  # Sentimiento positivo"
   ]
  },
  {
   "cell_type": "code",
   "execution_count": 9,
   "metadata": {},
   "outputs": [],
   "source": [
    "# Transformando tipo de dato float a str para la columna 'review' debido a que el análisis de sentimiento arrojaba un error por el tipo de dato\n",
    "df_reviews['review'] = df_reviews['review'].astype(str)"
   ]
  },
  {
   "cell_type": "code",
   "execution_count": 10,
   "metadata": {},
   "outputs": [],
   "source": [
    "# Aplicar la función de análisis de sentimiento a la columna 'texto' y crear 'sentiment_analysis'\n",
    "df_reviews['sentiment_analysis'] = df_reviews['review'].apply(analizar_sentimiento)"
   ]
  },
  {
   "cell_type": "code",
   "execution_count": 11,
   "metadata": {},
   "outputs": [],
   "source": [
    "# Eliminamos la columna 'review'\n",
    "df_reviews = df_reviews.drop('review', axis=1)"
   ]
  },
  {
   "cell_type": "code",
   "execution_count": 12,
   "metadata": {},
   "outputs": [
    {
     "data": {
      "text/html": [
       "<div>\n",
       "<style scoped>\n",
       "    .dataframe tbody tr th:only-of-type {\n",
       "        vertical-align: middle;\n",
       "    }\n",
       "\n",
       "    .dataframe tbody tr th {\n",
       "        vertical-align: top;\n",
       "    }\n",
       "\n",
       "    .dataframe thead th {\n",
       "        text-align: right;\n",
       "    }\n",
       "</style>\n",
       "<table border=\"1\" class=\"dataframe\">\n",
       "  <thead>\n",
       "    <tr style=\"text-align: right;\">\n",
       "      <th></th>\n",
       "      <th>user_id</th>\n",
       "      <th>item_id</th>\n",
       "      <th>posted</th>\n",
       "      <th>recommend</th>\n",
       "      <th>sentiment_analysis</th>\n",
       "    </tr>\n",
       "  </thead>\n",
       "  <tbody>\n",
       "    <tr>\n",
       "      <th>0</th>\n",
       "      <td>76561197970982479</td>\n",
       "      <td>1250</td>\n",
       "      <td>Posted November 5, 2011.</td>\n",
       "      <td>True</td>\n",
       "      <td>2</td>\n",
       "    </tr>\n",
       "    <tr>\n",
       "      <th>1</th>\n",
       "      <td>76561197970982479</td>\n",
       "      <td>22200</td>\n",
       "      <td>Posted July 15, 2011.</td>\n",
       "      <td>True</td>\n",
       "      <td>2</td>\n",
       "    </tr>\n",
       "    <tr>\n",
       "      <th>2</th>\n",
       "      <td>76561197970982479</td>\n",
       "      <td>43110</td>\n",
       "      <td>Posted April 21, 2011.</td>\n",
       "      <td>True</td>\n",
       "      <td>2</td>\n",
       "    </tr>\n",
       "    <tr>\n",
       "      <th>3</th>\n",
       "      <td>js41637</td>\n",
       "      <td>251610</td>\n",
       "      <td>Posted June 24, 2014.</td>\n",
       "      <td>True</td>\n",
       "      <td>2</td>\n",
       "    </tr>\n",
       "    <tr>\n",
       "      <th>4</th>\n",
       "      <td>js41637</td>\n",
       "      <td>227300</td>\n",
       "      <td>Posted September 8, 2013.</td>\n",
       "      <td>True</td>\n",
       "      <td>0</td>\n",
       "    </tr>\n",
       "  </tbody>\n",
       "</table>\n",
       "</div>"
      ],
      "text/plain": [
       "             user_id  item_id                     posted  recommend  \\\n",
       "0  76561197970982479     1250   Posted November 5, 2011.       True   \n",
       "1  76561197970982479    22200      Posted July 15, 2011.       True   \n",
       "2  76561197970982479    43110     Posted April 21, 2011.       True   \n",
       "3            js41637   251610      Posted June 24, 2014.       True   \n",
       "4            js41637   227300  Posted September 8, 2013.       True   \n",
       "\n",
       "   sentiment_analysis  \n",
       "0                   2  \n",
       "1                   2  \n",
       "2                   2  \n",
       "3                   2  \n",
       "4                   0  "
      ]
     },
     "execution_count": 12,
     "metadata": {},
     "output_type": "execute_result"
    }
   ],
   "source": [
    "df_reviews.head()"
   ]
  },
  {
   "cell_type": "code",
   "execution_count": 13,
   "metadata": {},
   "outputs": [],
   "source": [
    "# Transformamos el tipo de dato de posted para que sea en un formato de fecha\n",
    "\n",
    "# Extraer la parte de la fecha de la columna \"posted\" usando una expresión regular\n",
    "df_reviews['posted'] = df_reviews['posted'].str.extract(r'Posted (.+?)\\.')\n",
    "\n",
    "# Definir un formato que permita fechas con o sin año\n",
    "date_formats = ['%B %d, %Y', '%B %d']\n",
    "\n",
    "# Intentar convertir la columna \"posted\" al formato deseado\n",
    "for date_format in date_formats:\n",
    "    try:\n",
    "        df_reviews['posted'] = pd.to_datetime(df_reviews['posted'], format=date_format, errors='coerce')\n",
    "        break  # Salir del bucle si la conversión es exitosa\n",
    "    except ValueError:\n",
    "        pass  # Continuar con el siguiente formato si hay un error\n",
    "\n",
    "# Reemplazar el formato de fecha con el deseado\n",
    "df_reviews['posted'] = df_reviews['posted'].dt.strftime('%Y-%m-%d')"
   ]
  },
  {
   "cell_type": "markdown",
   "metadata": {},
   "source": [
    "**df_steam_games**"
   ]
  },
  {
   "cell_type": "code",
   "execution_count": 14,
   "metadata": {},
   "outputs": [
    {
     "data": {
      "text/html": [
       "<div>\n",
       "<style scoped>\n",
       "    .dataframe tbody tr th:only-of-type {\n",
       "        vertical-align: middle;\n",
       "    }\n",
       "\n",
       "    .dataframe tbody tr th {\n",
       "        vertical-align: top;\n",
       "    }\n",
       "\n",
       "    .dataframe thead th {\n",
       "        text-align: right;\n",
       "    }\n",
       "</style>\n",
       "<table border=\"1\" class=\"dataframe\">\n",
       "  <thead>\n",
       "    <tr style=\"text-align: right;\">\n",
       "      <th></th>\n",
       "      <th>publisher</th>\n",
       "      <th>genres</th>\n",
       "      <th>app_name</th>\n",
       "      <th>title</th>\n",
       "      <th>url</th>\n",
       "      <th>release_date</th>\n",
       "      <th>tags</th>\n",
       "      <th>reviews_url</th>\n",
       "      <th>specs</th>\n",
       "      <th>price</th>\n",
       "      <th>early_access</th>\n",
       "      <th>id</th>\n",
       "      <th>developer</th>\n",
       "    </tr>\n",
       "  </thead>\n",
       "  <tbody>\n",
       "    <tr>\n",
       "      <th>0</th>\n",
       "      <td>Kotoshiro</td>\n",
       "      <td>['Action', 'Casual', 'Indie', 'Simulation', 'S...</td>\n",
       "      <td>Lost Summoner Kitty</td>\n",
       "      <td>Lost Summoner Kitty</td>\n",
       "      <td>http://store.steampowered.com/app/761140/Lost_...</td>\n",
       "      <td>2018-01-04</td>\n",
       "      <td>['Strategy', 'Action', 'Indie', 'Casual', 'Sim...</td>\n",
       "      <td>http://steamcommunity.com/app/761140/reviews/?...</td>\n",
       "      <td>['Single-player']</td>\n",
       "      <td>4.99</td>\n",
       "      <td>False</td>\n",
       "      <td>761140.0</td>\n",
       "      <td>Kotoshiro</td>\n",
       "    </tr>\n",
       "    <tr>\n",
       "      <th>1</th>\n",
       "      <td>Making Fun, Inc.</td>\n",
       "      <td>['Free to Play', 'Indie', 'RPG', 'Strategy']</td>\n",
       "      <td>Ironbound</td>\n",
       "      <td>Ironbound</td>\n",
       "      <td>http://store.steampowered.com/app/643980/Ironb...</td>\n",
       "      <td>2018-01-04</td>\n",
       "      <td>['Free to Play', 'Strategy', 'Indie', 'RPG', '...</td>\n",
       "      <td>http://steamcommunity.com/app/643980/reviews/?...</td>\n",
       "      <td>['Single-player', 'Multi-player', 'Online Mult...</td>\n",
       "      <td>Free To Play</td>\n",
       "      <td>False</td>\n",
       "      <td>643980.0</td>\n",
       "      <td>Secret Level SRL</td>\n",
       "    </tr>\n",
       "    <tr>\n",
       "      <th>2</th>\n",
       "      <td>Poolians.com</td>\n",
       "      <td>['Casual', 'Free to Play', 'Indie', 'Simulatio...</td>\n",
       "      <td>Real Pool 3D - Poolians</td>\n",
       "      <td>Real Pool 3D - Poolians</td>\n",
       "      <td>http://store.steampowered.com/app/670290/Real_...</td>\n",
       "      <td>2017-07-24</td>\n",
       "      <td>['Free to Play', 'Simulation', 'Sports', 'Casu...</td>\n",
       "      <td>http://steamcommunity.com/app/670290/reviews/?...</td>\n",
       "      <td>['Single-player', 'Multi-player', 'Online Mult...</td>\n",
       "      <td>Free to Play</td>\n",
       "      <td>False</td>\n",
       "      <td>670290.0</td>\n",
       "      <td>Poolians.com</td>\n",
       "    </tr>\n",
       "    <tr>\n",
       "      <th>3</th>\n",
       "      <td>彼岸领域</td>\n",
       "      <td>['Action', 'Adventure', 'Casual']</td>\n",
       "      <td>弹炸人2222</td>\n",
       "      <td>弹炸人2222</td>\n",
       "      <td>http://store.steampowered.com/app/767400/2222/</td>\n",
       "      <td>2017-12-07</td>\n",
       "      <td>['Action', 'Adventure', 'Casual']</td>\n",
       "      <td>http://steamcommunity.com/app/767400/reviews/?...</td>\n",
       "      <td>['Single-player']</td>\n",
       "      <td>0.99</td>\n",
       "      <td>False</td>\n",
       "      <td>767400.0</td>\n",
       "      <td>彼岸领域</td>\n",
       "    </tr>\n",
       "    <tr>\n",
       "      <th>4</th>\n",
       "      <td>Trickjump Games Ltd</td>\n",
       "      <td>['Action', 'Adventure', 'Simulation']</td>\n",
       "      <td>Battle Royale Trainer</td>\n",
       "      <td>Battle Royale Trainer</td>\n",
       "      <td>http://store.steampowered.com/app/772540/Battl...</td>\n",
       "      <td>2018-01-04</td>\n",
       "      <td>['Action', 'Adventure', 'Simulation', 'FPS', '...</td>\n",
       "      <td>http://steamcommunity.com/app/772540/reviews/?...</td>\n",
       "      <td>['Single-player', 'Steam Achievements']</td>\n",
       "      <td>3.99</td>\n",
       "      <td>False</td>\n",
       "      <td>772540.0</td>\n",
       "      <td>Trickjump Games Ltd</td>\n",
       "    </tr>\n",
       "  </tbody>\n",
       "</table>\n",
       "</div>"
      ],
      "text/plain": [
       "             publisher                                             genres  \\\n",
       "0            Kotoshiro  ['Action', 'Casual', 'Indie', 'Simulation', 'S...   \n",
       "1     Making Fun, Inc.       ['Free to Play', 'Indie', 'RPG', 'Strategy']   \n",
       "2         Poolians.com  ['Casual', 'Free to Play', 'Indie', 'Simulatio...   \n",
       "3                 彼岸领域                  ['Action', 'Adventure', 'Casual']   \n",
       "4  Trickjump Games Ltd              ['Action', 'Adventure', 'Simulation']   \n",
       "\n",
       "                  app_name                    title  \\\n",
       "0      Lost Summoner Kitty      Lost Summoner Kitty   \n",
       "1                Ironbound                Ironbound   \n",
       "2  Real Pool 3D - Poolians  Real Pool 3D - Poolians   \n",
       "3                  弹炸人2222                  弹炸人2222   \n",
       "4    Battle Royale Trainer    Battle Royale Trainer   \n",
       "\n",
       "                                                 url release_date  \\\n",
       "0  http://store.steampowered.com/app/761140/Lost_...   2018-01-04   \n",
       "1  http://store.steampowered.com/app/643980/Ironb...   2018-01-04   \n",
       "2  http://store.steampowered.com/app/670290/Real_...   2017-07-24   \n",
       "3     http://store.steampowered.com/app/767400/2222/   2017-12-07   \n",
       "4  http://store.steampowered.com/app/772540/Battl...   2018-01-04   \n",
       "\n",
       "                                                tags  \\\n",
       "0  ['Strategy', 'Action', 'Indie', 'Casual', 'Sim...   \n",
       "1  ['Free to Play', 'Strategy', 'Indie', 'RPG', '...   \n",
       "2  ['Free to Play', 'Simulation', 'Sports', 'Casu...   \n",
       "3                  ['Action', 'Adventure', 'Casual']   \n",
       "4  ['Action', 'Adventure', 'Simulation', 'FPS', '...   \n",
       "\n",
       "                                         reviews_url  \\\n",
       "0  http://steamcommunity.com/app/761140/reviews/?...   \n",
       "1  http://steamcommunity.com/app/643980/reviews/?...   \n",
       "2  http://steamcommunity.com/app/670290/reviews/?...   \n",
       "3  http://steamcommunity.com/app/767400/reviews/?...   \n",
       "4  http://steamcommunity.com/app/772540/reviews/?...   \n",
       "\n",
       "                                               specs         price  \\\n",
       "0                                  ['Single-player']          4.99   \n",
       "1  ['Single-player', 'Multi-player', 'Online Mult...  Free To Play   \n",
       "2  ['Single-player', 'Multi-player', 'Online Mult...  Free to Play   \n",
       "3                                  ['Single-player']          0.99   \n",
       "4            ['Single-player', 'Steam Achievements']          3.99   \n",
       "\n",
       "   early_access        id            developer  \n",
       "0         False  761140.0            Kotoshiro  \n",
       "1         False  643980.0     Secret Level SRL  \n",
       "2         False  670290.0         Poolians.com  \n",
       "3         False  767400.0                 彼岸领域  \n",
       "4         False  772540.0  Trickjump Games Ltd  "
      ]
     },
     "execution_count": 14,
     "metadata": {},
     "output_type": "execute_result"
    }
   ],
   "source": [
    "# Visualizamos el dataframe\n",
    "df_steam_games.head()"
   ]
  },
  {
   "cell_type": "code",
   "execution_count": 15,
   "metadata": {},
   "outputs": [
    {
     "data": {
      "text/plain": [
       "(28852, 13)"
      ]
     },
     "execution_count": 15,
     "metadata": {},
     "output_type": "execute_result"
    }
   ],
   "source": [
    "# Visualizamos las dimensiones del df\n",
    "df_steam_games.shape"
   ]
  },
  {
   "cell_type": "code",
   "execution_count": 16,
   "metadata": {},
   "outputs": [
    {
     "data": {
      "text/plain": [
       "Index(['publisher', 'genres', 'app_name', 'title', 'url', 'release_date',\n",
       "       'tags', 'reviews_url', 'specs', 'price', 'early_access', 'id',\n",
       "       'developer'],\n",
       "      dtype='object')"
      ]
     },
     "execution_count": 16,
     "metadata": {},
     "output_type": "execute_result"
    }
   ],
   "source": [
    "# Visualizamos las columnas existentes\n",
    "df_steam_games.columns"
   ]
  },
  {
   "cell_type": "code",
   "execution_count": 17,
   "metadata": {},
   "outputs": [
    {
     "data": {
      "text/plain": [
       "publisher        object\n",
       "genres           object\n",
       "app_name         object\n",
       "title            object\n",
       "url              object\n",
       "release_date     object\n",
       "tags             object\n",
       "reviews_url      object\n",
       "specs            object\n",
       "price            object\n",
       "early_access       bool\n",
       "id              float64\n",
       "developer        object\n",
       "dtype: object"
      ]
     },
     "execution_count": 17,
     "metadata": {},
     "output_type": "execute_result"
    }
   ],
   "source": [
    "# Visualizamos el tipo de datos de las columnas\n",
    "df_steam_games.dtypes"
   ]
  },
  {
   "cell_type": "code",
   "execution_count": 18,
   "metadata": {},
   "outputs": [],
   "source": [
    "# Consideramos que columnas eliminar de df_steam_games\n",
    "\n",
    "# app_name: Contiene los mismos datos que 'title'\n",
    "# tags: contiene caracteristicas similares que 'genres'\n",
    "# url: No contiene información que pueda aportar al modelo\n",
    "# reviews_url: No posee información importante"
   ]
  },
  {
   "cell_type": "code",
   "execution_count": 19,
   "metadata": {},
   "outputs": [],
   "source": [
    "# columnas_eliminar = ['app_name', 'tags', 'url', 'reviews_url']\n",
    "\n",
    "# df_steam_games = df_steam_games.drop(columns=columnas_eliminar)"
   ]
  },
  {
   "cell_type": "code",
   "execution_count": 20,
   "metadata": {},
   "outputs": [
    {
     "data": {
      "text/plain": [
       "Index(['publisher', 'genres', 'app_name', 'title', 'url', 'release_date',\n",
       "       'tags', 'reviews_url', 'specs', 'price', 'early_access', 'id',\n",
       "       'developer'],\n",
       "      dtype='object')"
      ]
     },
     "execution_count": 20,
     "metadata": {},
     "output_type": "execute_result"
    }
   ],
   "source": [
    "# Chequeamos las columnas que quedaron\n",
    "df_steam_games.columns"
   ]
  },
  {
   "cell_type": "code",
   "execution_count": 21,
   "metadata": {},
   "outputs": [
    {
     "data": {
      "text/html": [
       "<div>\n",
       "<style scoped>\n",
       "    .dataframe tbody tr th:only-of-type {\n",
       "        vertical-align: middle;\n",
       "    }\n",
       "\n",
       "    .dataframe tbody tr th {\n",
       "        vertical-align: top;\n",
       "    }\n",
       "\n",
       "    .dataframe thead th {\n",
       "        text-align: right;\n",
       "    }\n",
       "</style>\n",
       "<table border=\"1\" class=\"dataframe\">\n",
       "  <thead>\n",
       "    <tr style=\"text-align: right;\">\n",
       "      <th></th>\n",
       "      <th>Datos no nulos</th>\n",
       "      <th>Datos nulos</th>\n",
       "    </tr>\n",
       "  </thead>\n",
       "  <tbody>\n",
       "    <tr>\n",
       "      <th>publisher</th>\n",
       "      <td>23936</td>\n",
       "      <td>4916</td>\n",
       "    </tr>\n",
       "    <tr>\n",
       "      <th>genres</th>\n",
       "      <td>28852</td>\n",
       "      <td>0</td>\n",
       "    </tr>\n",
       "    <tr>\n",
       "      <th>app_name</th>\n",
       "      <td>28851</td>\n",
       "      <td>1</td>\n",
       "    </tr>\n",
       "    <tr>\n",
       "      <th>title</th>\n",
       "      <td>28851</td>\n",
       "      <td>1</td>\n",
       "    </tr>\n",
       "    <tr>\n",
       "      <th>url</th>\n",
       "      <td>28852</td>\n",
       "      <td>0</td>\n",
       "    </tr>\n",
       "    <tr>\n",
       "      <th>release_date</th>\n",
       "      <td>28834</td>\n",
       "      <td>18</td>\n",
       "    </tr>\n",
       "    <tr>\n",
       "      <th>tags</th>\n",
       "      <td>28828</td>\n",
       "      <td>24</td>\n",
       "    </tr>\n",
       "    <tr>\n",
       "      <th>reviews_url</th>\n",
       "      <td>28851</td>\n",
       "      <td>1</td>\n",
       "    </tr>\n",
       "    <tr>\n",
       "      <th>specs</th>\n",
       "      <td>28566</td>\n",
       "      <td>286</td>\n",
       "    </tr>\n",
       "    <tr>\n",
       "      <th>price</th>\n",
       "      <td>27622</td>\n",
       "      <td>1230</td>\n",
       "    </tr>\n",
       "    <tr>\n",
       "      <th>early_access</th>\n",
       "      <td>28852</td>\n",
       "      <td>0</td>\n",
       "    </tr>\n",
       "    <tr>\n",
       "      <th>id</th>\n",
       "      <td>28851</td>\n",
       "      <td>1</td>\n",
       "    </tr>\n",
       "    <tr>\n",
       "      <th>developer</th>\n",
       "      <td>28682</td>\n",
       "      <td>170</td>\n",
       "    </tr>\n",
       "  </tbody>\n",
       "</table>\n",
       "</div>"
      ],
      "text/plain": [
       "              Datos no nulos  Datos nulos\n",
       "publisher              23936         4916\n",
       "genres                 28852            0\n",
       "app_name               28851            1\n",
       "title                  28851            1\n",
       "url                    28852            0\n",
       "release_date           28834           18\n",
       "tags                   28828           24\n",
       "reviews_url            28851            1\n",
       "specs                  28566          286\n",
       "price                  27622         1230\n",
       "early_access           28852            0\n",
       "id                     28851            1\n",
       "developer              28682          170"
      ]
     },
     "execution_count": 21,
     "metadata": {},
     "output_type": "execute_result"
    }
   ],
   "source": [
    "# Revisamos datos nulos por columna\n",
    "\n",
    "datos_no_nulos = df_steam_games.count()\n",
    "datos_nulos = df_steam_games.isnull().sum()\n",
    "\n",
    "informacion_columnas = pd.DataFrame({'Datos no nulos': datos_no_nulos,'Datos nulos': datos_nulos})\n",
    "informacion_columnas"
   ]
  },
  {
   "cell_type": "code",
   "execution_count": 22,
   "metadata": {},
   "outputs": [],
   "source": [
    "# Elimino el unico registro con id nulo\n",
    "# Eliminar registros con valores nulos en 'columna_especifica'\n",
    "df_steam_games = df_steam_games.dropna(subset=['id'])"
   ]
  },
  {
   "cell_type": "code",
   "execution_count": 23,
   "metadata": {},
   "outputs": [],
   "source": [
    "# Transformo 'id' en un tipo de dato int \n",
    "df_steam_games['id'] = df_steam_games['id'].astype(int)"
   ]
  },
  {
   "cell_type": "code",
   "execution_count": 24,
   "metadata": {},
   "outputs": [
    {
     "data": {
      "text/plain": [
       "array(['4.99', 'Free To Play', 'Free to Play', '0.99', '3.99', '9.99',\n",
       "       '18.99', '29.99', nan, '10.99', '2.99', '1.59', '14.99', '1.99',\n",
       "       '59.99', '8.99', '6.99', '7.99', '39.99', 'Free', '19.99', '7.49',\n",
       "       '12.99', '5.99', '2.49', '15.99', '1.25', '24.99', '17.99',\n",
       "       '61.99', '3.49', '11.99', '13.99', 'Free Demo', 'Play for Free!',\n",
       "       '34.99', '74.76', '1.49', '32.99', '99.99', '14.95', '69.99',\n",
       "       '16.99', '79.99', '49.99', '5.0', '44.99', '13.98', '29.96',\n",
       "       '109.99', '149.99', '771.71', 'Install Now', '21.99', '89.99',\n",
       "       'Play WARMACHINE: Tactics Demo', '0.98', '139.92', '4.29', '64.99',\n",
       "       'Free Mod', '54.99', '74.99', 'Install Theme', '0.89',\n",
       "       'Third-party', '0.5', 'Play Now', '299.99', '1.29', '119.99',\n",
       "       '3.0', '15.0', '5.49', '23.99', '49.0', '20.99', '10.93', '1.39',\n",
       "       'Free HITMAN™ Holiday Pack', '36.99', '4.49', '2.0', '4.0', '1.95',\n",
       "       '1.5', '199.0', '189.0', '6.66', '27.99', '129.99', '179.0',\n",
       "       '26.99', '399.99', '31.99', '399.0', '20.0', '40.0', '3.33',\n",
       "       '22.99', '320.0', '38.85', '71.7', '995.0', '27.49', '3.39', '6.0',\n",
       "       '19.95', '499.99', '199.99', '16.06', '4.68', '131.4', '44.98',\n",
       "       '202.76', '2.3', '0.95', '172.24', '249.99', '2.97', '10.96',\n",
       "       '10.0', '30.0', '2.66', '6.48', '1.0', '11.15', 'Play the Demo',\n",
       "       '99.0', '87.94', '0.49', '9.98', '9.95', '7.0', '12.89', '6.49',\n",
       "       '1.87', '42.99', '41.99', '289.99', 'Free to Try', '23.96', '5.65',\n",
       "       '12.0', '59.95', '13.37', '189.96', '124.99', '19.98', '160.91',\n",
       "       'Free to Use'], dtype=object)"
      ]
     },
     "execution_count": 24,
     "metadata": {},
     "output_type": "execute_result"
    }
   ],
   "source": [
    "# Visualizo los valores unicos en 'price' \n",
    "df_steam_games['price'].unique()"
   ]
  },
  {
   "cell_type": "code",
   "execution_count": 25,
   "metadata": {},
   "outputs": [],
   "source": [
    "# Unifico todos los valores distintos hacia un unico valor 'Free To Play'\n",
    "# Usa la función .replace() para realizar la transformación\n",
    "df_steam_games['price'] = df_steam_games['price'].replace('Free to Play', 'Free To Play')\n",
    "df_steam_games['price'] = df_steam_games['price'].replace('Free Demo', 'Free To Play')\n",
    "df_steam_games['price'] = df_steam_games['price'].replace('Play for Free!', 'Free To Play')\n",
    "df_steam_games['price'] = df_steam_games['price'].replace('Install Now', 'Free To Play')\n",
    "df_steam_games['price'] = df_steam_games['price'].replace('Play WARMACHINE: Tactics Demo', 'Free To Play')\n",
    "df_steam_games['price'] = df_steam_games['price'].replace('Free Mod', 'Free To Play')\n",
    "df_steam_games['price'] = df_steam_games['price'].replace('Install Theme', 'Free To Play')\n",
    "df_steam_games['price'] = df_steam_games['price'].replace('Third-party', 'Free To Play')\n",
    "df_steam_games['price'] = df_steam_games['price'].replace('Play Now', 'Free To Play')\n",
    "df_steam_games['price'] = df_steam_games['price'].replace('Free HITMAN™ Holiday Pack', 'Free To Play')\n",
    "df_steam_games['price'] = df_steam_games['price'].replace('Play the Demo', 'Free To Play')\n",
    "df_steam_games['price'] = df_steam_games['price'].replace('Free to Try', 'Free To Play')\n",
    "df_steam_games['price'] = df_steam_games['price'].replace('Free to Use', 'Free To Play')"
   ]
  },
  {
   "cell_type": "code",
   "execution_count": 26,
   "metadata": {},
   "outputs": [
    {
     "data": {
      "text/plain": [
       "array(['4.99', 'Free To Play', '0.99', '3.99', '9.99', '18.99', '29.99',\n",
       "       nan, '10.99', '2.99', '1.59', '14.99', '1.99', '59.99', '8.99',\n",
       "       '6.99', '7.99', '39.99', 'Free', '19.99', '7.49', '12.99', '5.99',\n",
       "       '2.49', '15.99', '1.25', '24.99', '17.99', '61.99', '3.49',\n",
       "       '11.99', '13.99', '34.99', '74.76', '1.49', '32.99', '99.99',\n",
       "       '14.95', '69.99', '16.99', '79.99', '49.99', '5.0', '44.99',\n",
       "       '13.98', '29.96', '109.99', '149.99', '771.71', '21.99', '89.99',\n",
       "       '0.98', '139.92', '4.29', '64.99', '54.99', '74.99', '0.89', '0.5',\n",
       "       '299.99', '1.29', '119.99', '3.0', '15.0', '5.49', '23.99', '49.0',\n",
       "       '20.99', '10.93', '1.39', '36.99', '4.49', '2.0', '4.0', '1.95',\n",
       "       '1.5', '199.0', '189.0', '6.66', '27.99', '129.99', '179.0',\n",
       "       '26.99', '399.99', '31.99', '399.0', '20.0', '40.0', '3.33',\n",
       "       '22.99', '320.0', '38.85', '71.7', '995.0', '27.49', '3.39', '6.0',\n",
       "       '19.95', '499.99', '199.99', '16.06', '4.68', '131.4', '44.98',\n",
       "       '202.76', '2.3', '0.95', '172.24', '249.99', '2.97', '10.96',\n",
       "       '10.0', '30.0', '2.66', '6.48', '1.0', '11.15', '99.0', '87.94',\n",
       "       '0.49', '9.98', '9.95', '7.0', '12.89', '6.49', '1.87', '42.99',\n",
       "       '41.99', '289.99', '23.96', '5.65', '12.0', '59.95', '13.37',\n",
       "       '189.96', '124.99', '19.98', '160.91'], dtype=object)"
      ]
     },
     "execution_count": 26,
     "metadata": {},
     "output_type": "execute_result"
    }
   ],
   "source": [
    "# Visualizo los valores unicos en 'price' \n",
    "df_steam_games['price'].unique()"
   ]
  },
  {
   "cell_type": "code",
   "execution_count": 28,
   "metadata": {},
   "outputs": [],
   "source": [
    "# En la columna 'price' formalizo los valores a float\n",
    "# Primero debo convertir los 'Free To Play' en 0\n",
    "# Define una función para realizar la conversión\n",
    "def convert_price(value):\n",
    "    if value == 'Free To Play':\n",
    "        return 0.0\n",
    "    try:\n",
    "        return float(value)\n",
    "    except ValueError:\n",
    "        return None  # Si no se puede convertir a float, devolvemos None\n",
    "\n",
    "# Aplica la función a la columna 'price'\n",
    "df_steam_games['price'] = df_steam_games['price'].apply(convert_price)\n",
    "\n",
    "# Convierte la columna en tipo float\n",
    "df_steam_games['price'] = df_steam_games['price'].astype(float)"
   ]
  },
  {
   "cell_type": "code",
   "execution_count": 29,
   "metadata": {},
   "outputs": [],
   "source": [
    "# Transformo el nombre de la columna a 'item_id'\n",
    "df_steam_games.rename(columns={'id': 'item_id'}, inplace=True)"
   ]
  },
  {
   "cell_type": "code",
   "execution_count": 30,
   "metadata": {},
   "outputs": [
    {
     "data": {
      "text/plain": [
       "publisher        object\n",
       "genres           object\n",
       "app_name         object\n",
       "title            object\n",
       "url              object\n",
       "release_date     object\n",
       "tags             object\n",
       "reviews_url      object\n",
       "specs            object\n",
       "price           float64\n",
       "early_access       bool\n",
       "item_id           int32\n",
       "developer        object\n",
       "dtype: object"
      ]
     },
     "execution_count": 30,
     "metadata": {},
     "output_type": "execute_result"
    }
   ],
   "source": [
    "# Visualizamos el tipo de datos de las columnas\n",
    "df_steam_games.dtypes"
   ]
  },
  {
   "cell_type": "code",
   "execution_count": 31,
   "metadata": {},
   "outputs": [
    {
     "data": {
      "text/html": [
       "<div>\n",
       "<style scoped>\n",
       "    .dataframe tbody tr th:only-of-type {\n",
       "        vertical-align: middle;\n",
       "    }\n",
       "\n",
       "    .dataframe tbody tr th {\n",
       "        vertical-align: top;\n",
       "    }\n",
       "\n",
       "    .dataframe thead th {\n",
       "        text-align: right;\n",
       "    }\n",
       "</style>\n",
       "<table border=\"1\" class=\"dataframe\">\n",
       "  <thead>\n",
       "    <tr style=\"text-align: right;\">\n",
       "      <th></th>\n",
       "      <th>Datos no nulos</th>\n",
       "      <th>Datos nulos</th>\n",
       "    </tr>\n",
       "  </thead>\n",
       "  <tbody>\n",
       "    <tr>\n",
       "      <th>publisher</th>\n",
       "      <td>23935</td>\n",
       "      <td>4916</td>\n",
       "    </tr>\n",
       "    <tr>\n",
       "      <th>genres</th>\n",
       "      <td>28851</td>\n",
       "      <td>0</td>\n",
       "    </tr>\n",
       "    <tr>\n",
       "      <th>app_name</th>\n",
       "      <td>28850</td>\n",
       "      <td>1</td>\n",
       "    </tr>\n",
       "    <tr>\n",
       "      <th>title</th>\n",
       "      <td>28850</td>\n",
       "      <td>1</td>\n",
       "    </tr>\n",
       "    <tr>\n",
       "      <th>url</th>\n",
       "      <td>28851</td>\n",
       "      <td>0</td>\n",
       "    </tr>\n",
       "    <tr>\n",
       "      <th>release_date</th>\n",
       "      <td>28833</td>\n",
       "      <td>18</td>\n",
       "    </tr>\n",
       "    <tr>\n",
       "      <th>tags</th>\n",
       "      <td>28827</td>\n",
       "      <td>24</td>\n",
       "    </tr>\n",
       "    <tr>\n",
       "      <th>reviews_url</th>\n",
       "      <td>28851</td>\n",
       "      <td>0</td>\n",
       "    </tr>\n",
       "    <tr>\n",
       "      <th>specs</th>\n",
       "      <td>28565</td>\n",
       "      <td>286</td>\n",
       "    </tr>\n",
       "    <tr>\n",
       "      <th>price</th>\n",
       "      <td>26941</td>\n",
       "      <td>1910</td>\n",
       "    </tr>\n",
       "    <tr>\n",
       "      <th>early_access</th>\n",
       "      <td>28851</td>\n",
       "      <td>0</td>\n",
       "    </tr>\n",
       "    <tr>\n",
       "      <th>item_id</th>\n",
       "      <td>28851</td>\n",
       "      <td>0</td>\n",
       "    </tr>\n",
       "    <tr>\n",
       "      <th>developer</th>\n",
       "      <td>28681</td>\n",
       "      <td>170</td>\n",
       "    </tr>\n",
       "  </tbody>\n",
       "</table>\n",
       "</div>"
      ],
      "text/plain": [
       "              Datos no nulos  Datos nulos\n",
       "publisher              23935         4916\n",
       "genres                 28851            0\n",
       "app_name               28850            1\n",
       "title                  28850            1\n",
       "url                    28851            0\n",
       "release_date           28833           18\n",
       "tags                   28827           24\n",
       "reviews_url            28851            0\n",
       "specs                  28565          286\n",
       "price                  26941         1910\n",
       "early_access           28851            0\n",
       "item_id                28851            0\n",
       "developer              28681          170"
      ]
     },
     "execution_count": 31,
     "metadata": {},
     "output_type": "execute_result"
    }
   ],
   "source": [
    "# Revisamos datos nulos por columna\n",
    "\n",
    "datos_no_nulos = df_steam_games.count()\n",
    "datos_nulos = df_steam_games.isnull().sum()\n",
    "\n",
    "informacion_columnas = pd.DataFrame({'Datos no nulos': datos_no_nulos,'Datos nulos': datos_nulos})\n",
    "informacion_columnas"
   ]
  },
  {
   "cell_type": "markdown",
   "metadata": {},
   "source": [
    "**df_items**"
   ]
  },
  {
   "cell_type": "code",
   "execution_count": 32,
   "metadata": {},
   "outputs": [
    {
     "data": {
      "text/html": [
       "<div>\n",
       "<style scoped>\n",
       "    .dataframe tbody tr th:only-of-type {\n",
       "        vertical-align: middle;\n",
       "    }\n",
       "\n",
       "    .dataframe tbody tr th {\n",
       "        vertical-align: top;\n",
       "    }\n",
       "\n",
       "    .dataframe thead th {\n",
       "        text-align: right;\n",
       "    }\n",
       "</style>\n",
       "<table border=\"1\" class=\"dataframe\">\n",
       "  <thead>\n",
       "    <tr style=\"text-align: right;\">\n",
       "      <th></th>\n",
       "      <th>user_id</th>\n",
       "      <th>item_id</th>\n",
       "      <th>item_name</th>\n",
       "      <th>playtime_forever</th>\n",
       "      <th>playtime_2weeks</th>\n",
       "    </tr>\n",
       "  </thead>\n",
       "  <tbody>\n",
       "    <tr>\n",
       "      <th>0</th>\n",
       "      <td>76561197970982479</td>\n",
       "      <td>10</td>\n",
       "      <td>Counter-Strike</td>\n",
       "      <td>6</td>\n",
       "      <td>0</td>\n",
       "    </tr>\n",
       "    <tr>\n",
       "      <th>1</th>\n",
       "      <td>76561197970982479</td>\n",
       "      <td>20</td>\n",
       "      <td>Team Fortress Classic</td>\n",
       "      <td>0</td>\n",
       "      <td>0</td>\n",
       "    </tr>\n",
       "    <tr>\n",
       "      <th>2</th>\n",
       "      <td>76561197970982479</td>\n",
       "      <td>30</td>\n",
       "      <td>Day of Defeat</td>\n",
       "      <td>7</td>\n",
       "      <td>0</td>\n",
       "    </tr>\n",
       "    <tr>\n",
       "      <th>3</th>\n",
       "      <td>76561197970982479</td>\n",
       "      <td>40</td>\n",
       "      <td>Deathmatch Classic</td>\n",
       "      <td>0</td>\n",
       "      <td>0</td>\n",
       "    </tr>\n",
       "    <tr>\n",
       "      <th>4</th>\n",
       "      <td>76561197970982479</td>\n",
       "      <td>50</td>\n",
       "      <td>Half-Life: Opposing Force</td>\n",
       "      <td>0</td>\n",
       "      <td>0</td>\n",
       "    </tr>\n",
       "  </tbody>\n",
       "</table>\n",
       "</div>"
      ],
      "text/plain": [
       "             user_id  item_id                  item_name  playtime_forever  \\\n",
       "0  76561197970982479       10             Counter-Strike                 6   \n",
       "1  76561197970982479       20      Team Fortress Classic                 0   \n",
       "2  76561197970982479       30              Day of Defeat                 7   \n",
       "3  76561197970982479       40         Deathmatch Classic                 0   \n",
       "4  76561197970982479       50  Half-Life: Opposing Force                 0   \n",
       "\n",
       "   playtime_2weeks  \n",
       "0                0  \n",
       "1                0  \n",
       "2                0  \n",
       "3                0  \n",
       "4                0  "
      ]
     },
     "execution_count": 32,
     "metadata": {},
     "output_type": "execute_result"
    }
   ],
   "source": [
    "# Visualizamos el dataframe\n",
    "df_items.head()"
   ]
  },
  {
   "cell_type": "code",
   "execution_count": 33,
   "metadata": {},
   "outputs": [
    {
     "data": {
      "text/plain": [
       "(5153209, 5)"
      ]
     },
     "execution_count": 33,
     "metadata": {},
     "output_type": "execute_result"
    }
   ],
   "source": [
    "# Visualizamos las dimensiones del df\n",
    "df_items.shape"
   ]
  },
  {
   "cell_type": "code",
   "execution_count": 34,
   "metadata": {},
   "outputs": [
    {
     "data": {
      "text/plain": [
       "Index(['user_id', 'item_id', 'item_name', 'playtime_forever',\n",
       "       'playtime_2weeks'],\n",
       "      dtype='object')"
      ]
     },
     "execution_count": 34,
     "metadata": {},
     "output_type": "execute_result"
    }
   ],
   "source": [
    "# Visualizamos las columnas existentes\n",
    "df_items.columns"
   ]
  },
  {
   "cell_type": "code",
   "execution_count": 35,
   "metadata": {},
   "outputs": [
    {
     "data": {
      "text/plain": [
       "user_id             object\n",
       "item_id              int64\n",
       "item_name           object\n",
       "playtime_forever     int64\n",
       "playtime_2weeks      int64\n",
       "dtype: object"
      ]
     },
     "execution_count": 35,
     "metadata": {},
     "output_type": "execute_result"
    }
   ],
   "source": [
    "# Visualizamos el tipo de datos de las columnas\n",
    "df_items.dtypes"
   ]
  },
  {
   "cell_type": "code",
   "execution_count": 37,
   "metadata": {},
   "outputs": [],
   "source": [
    "# Convierto a'user_id' en tipo de dato string para falicitar luego su lectura\n",
    "df_items['user_id'] = df_items['user_id'].apply(str)"
   ]
  },
  {
   "cell_type": "code",
   "execution_count": 38,
   "metadata": {},
   "outputs": [
    {
     "data": {
      "text/plain": [
       "user_id             object\n",
       "item_id              int64\n",
       "item_name           object\n",
       "playtime_forever     int64\n",
       "playtime_2weeks      int64\n",
       "dtype: object"
      ]
     },
     "execution_count": 38,
     "metadata": {},
     "output_type": "execute_result"
    }
   ],
   "source": [
    "df_items.dtypes"
   ]
  },
  {
   "cell_type": "code",
   "execution_count": 39,
   "metadata": {},
   "outputs": [
    {
     "data": {
      "text/html": [
       "<div>\n",
       "<style scoped>\n",
       "    .dataframe tbody tr th:only-of-type {\n",
       "        vertical-align: middle;\n",
       "    }\n",
       "\n",
       "    .dataframe tbody tr th {\n",
       "        vertical-align: top;\n",
       "    }\n",
       "\n",
       "    .dataframe thead th {\n",
       "        text-align: right;\n",
       "    }\n",
       "</style>\n",
       "<table border=\"1\" class=\"dataframe\">\n",
       "  <thead>\n",
       "    <tr style=\"text-align: right;\">\n",
       "      <th></th>\n",
       "      <th>Datos no nulos</th>\n",
       "      <th>Datos nulos</th>\n",
       "    </tr>\n",
       "  </thead>\n",
       "  <tbody>\n",
       "    <tr>\n",
       "      <th>user_id</th>\n",
       "      <td>5153209</td>\n",
       "      <td>0</td>\n",
       "    </tr>\n",
       "    <tr>\n",
       "      <th>item_id</th>\n",
       "      <td>5153209</td>\n",
       "      <td>0</td>\n",
       "    </tr>\n",
       "    <tr>\n",
       "      <th>item_name</th>\n",
       "      <td>5153209</td>\n",
       "      <td>0</td>\n",
       "    </tr>\n",
       "    <tr>\n",
       "      <th>playtime_forever</th>\n",
       "      <td>5153209</td>\n",
       "      <td>0</td>\n",
       "    </tr>\n",
       "    <tr>\n",
       "      <th>playtime_2weeks</th>\n",
       "      <td>5153209</td>\n",
       "      <td>0</td>\n",
       "    </tr>\n",
       "  </tbody>\n",
       "</table>\n",
       "</div>"
      ],
      "text/plain": [
       "                  Datos no nulos  Datos nulos\n",
       "user_id                  5153209            0\n",
       "item_id                  5153209            0\n",
       "item_name                5153209            0\n",
       "playtime_forever         5153209            0\n",
       "playtime_2weeks          5153209            0"
      ]
     },
     "execution_count": 39,
     "metadata": {},
     "output_type": "execute_result"
    }
   ],
   "source": [
    "# Revisamos datos nulos por columna\n",
    "\n",
    "datos_no_nulos = df_items.count()\n",
    "datos_nulos = df_items.isnull().sum()\n",
    "\n",
    "informacion_columnas = pd.DataFrame({'Datos no nulos': datos_no_nulos,'Datos nulos': datos_nulos})\n",
    "informacion_columnas"
   ]
  },
  {
   "cell_type": "markdown",
   "metadata": {},
   "source": [
    "**Exportación**"
   ]
  },
  {
   "cell_type": "code",
   "execution_count": 40,
   "metadata": {},
   "outputs": [],
   "source": [
    "# Con los dataframes transformados los exportamos en limpio para su posterior utilizacion\n",
    "\n",
    "df_steam_games.to_csv('E:\\\\Henry Curso\\\\Curso\\\\LABS\\\\PI_MLOps\\\\FastAPI\\\\steam_games.csv', index=False)"
   ]
  },
  {
   "cell_type": "code",
   "execution_count": 41,
   "metadata": {},
   "outputs": [],
   "source": [
    "df_reviews.to_csv('E:\\\\Henry Curso\\\\Curso\\\\LABS\\\\PI_MLOps\\\\FastAPI\\\\reviews.csv', index=False)"
   ]
  },
  {
   "cell_type": "code",
   "execution_count": 42,
   "metadata": {},
   "outputs": [],
   "source": [
    "df_items.to_csv('E:\\\\Henry Curso\\\\Curso\\\\LABS\\\\PI_MLOps\\\\FastAPI\\\\items.csv', index=False)"
   ]
  }
 ],
 "metadata": {
  "kernelspec": {
   "display_name": "Python 3",
   "language": "python",
   "name": "python3"
  },
  "language_info": {
   "codemirror_mode": {
    "name": "ipython",
    "version": 3
   },
   "file_extension": ".py",
   "mimetype": "text/x-python",
   "name": "python",
   "nbconvert_exporter": "python",
   "pygments_lexer": "ipython3",
   "version": "3.11.5"
  },
  "orig_nbformat": 4
 },
 "nbformat": 4,
 "nbformat_minor": 2
}
